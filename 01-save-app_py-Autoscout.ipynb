{
 "cells": [
  {
   "cell_type": "code",
   "execution_count": 1,
   "id": "f6d21fe0",
   "metadata": {},
   "outputs": [
    {
     "name": "stdout",
     "output_type": "stream",
     "text": [
      "Overwriting app.py\n"
     ]
    }
   ],
   "source": [
    "%%writefile app.py\n",
    "\n",
    "import streamlit as st\n",
    "import streamlit.components.v1 as components\n",
    "\n",
    "from gtts import gTTS\n",
    "import pyttsx3\n",
    "import time\n",
    "\n",
    "import pandas as pd\n",
    "import numpy as np\n",
    "\n",
    "# st.title(\"Car Price Prediction\")\n",
    "# st.header('This is a header')\n",
    "# st.subheader('Car Price Prediction')\n",
    "# st.text('This is some text.')\n",
    "# st.write('Hello, *World!* :sunglasses:')\n",
    "st.markdown(\"<h2 style='text-align:center; color:floralWhite;'>Car Price Prediction</h2>\", unsafe_allow_html=True)\n",
    "\n",
    "# st.success('This is a success message!')\n",
    "# st.info('This is a purely informational message')\n",
    "# st.error('This is an error')\n",
    "\n",
    "# st.help(range)\n",
    "\n",
    "col1, col2, col3 = st.columns([1,8,1]) \n",
    "\n",
    "#Image\n",
    "try:\n",
    "    # Some Code\n",
    "    #read local image\n",
    "    from PIL import Image\n",
    "#     img1 = Image.open(\"images.jpeg\")\n",
    "\n",
    "    #image url\n",
    "    url = \"https://storage.googleapis.com/kaggle-datasets-images/383055/741735/4e7acec211a711b2669d91a771c0b4ca/dataset-cover.jpg\"\n",
    "    \n",
    "    with col2:\n",
    "        st.image(url, caption=\"Predicting the Prices of Cars\")\n",
    "        \n",
    "#     #image read with imageio\n",
    "#     from imageio.v2 import imread\n",
    "#     img2 = imread(url)\n",
    "    \n",
    "#     #image read with requests\n",
    "#     from urllib.request import urlopen\n",
    "#     from requests import get\n",
    "#     from io import BytesIO\n",
    "#     response = get(url)\n",
    "#     image_bytes = BytesIO(response.content)\n",
    "#     img3 = Image.open(image_bytes)\n",
    "    \n",
    "except:\n",
    "    # Executed if error in the\n",
    "    # try block   \n",
    "    components.html('''\n",
    "    <script>\n",
    "        alert(\"Image Not Loading!\");\n",
    "    </script>\n",
    "    ''')\n",
    "    st.text(\"Image Not Loading!\")\n",
    "    \n",
    "else:\n",
    "    # execute if no exception \n",
    "    pass\n",
    "        \n",
    "finally:\n",
    "    # Some code .....(always executed)   \n",
    "    pass\n",
    "\n",
    "\n",
    "# read Dataset\n",
    "df = pd.read_csv(\"final_scout.csv\")\n",
    "\n",
    "with col2:\n",
    "    if st.checkbox('Show dataframe'):\n",
    "        st.write(df)\n",
    "\n",
    "# Creating side bar \n",
    "st.sidebar.subheader(\"Select the features you want for price estimation\")\n",
    "\n",
    "input_make_model = st.sidebar.selectbox('Name of the Car Model:', df['make_model'].unique())\n",
    "input_gearing_type = st.sidebar.radio('Name of the Gearing Type:', df['Gearing_Type'].unique())\n",
    "input_hp_kW\t = st.sidebar.slider('Horse Power(kW)', df[\"hp_kW\"].min(), df[\"hp_kW\"].max(), float(df[\"hp_kW\"].mode()[0]), 1.0)\n",
    "input_km = st.sidebar.slider('Kilometer(km)', 0.0, df[\"km\"].max(), float(df[\"km\"].mode()[0]), 1.0)\n",
    "input_age = st.sidebar.slider('Car Age', 0.0, df[\"age\"].max(), float(df[\"age\"].mode()[0]), 1.0)\n",
    "input_gears = st.sidebar.slider('Gears', df[\"Gears\"].min(), df[\"Gears\"].max(), float(df[\"Gears\"].mode()[0]), 1.0)\n",
    "\n",
    "import pickle\n",
    "model = pickle.load(open(\"final_model_scout\", \"rb\"))\n",
    "\n",
    "data = {\"make_model\" : input_make_model,\n",
    "        \"Gearing_Type\" : input_gearing_type,\n",
    "        \"age\" : input_age,\n",
    "        \"hp_kW\" : input_hp_kW,\n",
    "        \"km\" : input_km,\n",
    "        \"Gears\" : input_gears}\n",
    "input_data = pd.DataFrame(data, index=[0])  \n",
    "\n",
    "with col2:\n",
    "    if st.checkbox('Show Selected Values', value=True):\n",
    "        st.write(input_data.convert_dtypes())\n",
    "        \n",
    "# assign\n",
    "video_html = \"\"\"\n",
    "<iframe width=\"0\" height=\"0\" \n",
    "src=\"https://www.youtube-nocookie.com/embed/t3217H8JppI?rel=0&amp;autoplay=1&mute=0&start=2860&amp;end=2866&controls=0&showinfo=0\" \n",
    "allow=\"autoplay;\"></iframe>\n",
    " \"\"\"\n",
    "audio_html = \"\"\"    \n",
    "<audio controls autoplay style=\"display: none\">\n",
    "<source src=\"https://ssl.gstatic.com/dictionary/static/pronunciation/2022-03-02/audio/pr/predicting_en_gb_1.mp3\" type=\"audio/mpeg\">\n",
    "</audio>\n",
    "\"\"\" \n",
    "if st.button('Make Prediction'):   \n",
    "    sound = st.empty()\n",
    "    sound.markdown(video_html, unsafe_allow_html=True)\n",
    "    \n",
    "    prediction = model.predict(input_data)\n",
    "    prediction_text = model.predict(input_data)[0].round(2)\n",
    "        \n",
    "    audio = gTTS(text=str(prediction_text), lang=\"en\", slow=False)\n",
    "    audio.save(\"example.mp3\")\n",
    "    \n",
    "    time.sleep(3.2)  # wait for 2 seconds to finish the playing of the audio\n",
    "    sound.empty()  # optionally delete the element afterwards    \n",
    "    st.success(f'Your Car price is:&emsp;${prediction_text}')\n",
    "    st.audio(\"example.mp3\")  \n",
    "    pyttsx3.speak(prediction_text)  \n",
    "    \n",
    "    \n",
    "html_temp = \"\"\"\n",
    "<div style=\"background-color:tomato;padding:1.5px\">\n",
    "<h1 style=\"color:white;text-align:center;\">Single Customer </h1>\n",
    "</div><br>\"\"\"\n",
    "st.sidebar.markdown(html_temp,unsafe_allow_html=True)\n"
   ]
  },
  {
   "cell_type": "code",
   "execution_count": 2,
   "id": "650a878c",
   "metadata": {},
   "outputs": [],
   "source": [
    "# https://ssl.gstatic.com/dictionary/static/pronunciation/2022-03-02/audio/pr/predicting_en_gb_1.mp3"
   ]
  },
  {
   "cell_type": "code",
   "execution_count": 3,
   "id": "a68511e4",
   "metadata": {},
   "outputs": [
    {
     "data": {
      "text/html": [
       "<iframe width=\"0\" height=\"0\" \n",
       "src=\"https://www.youtube-nocookie.com/embed/t3217H8JppI?rel=0&amp;autoplay=1&mute=0&start=2860&amp;end=2866&controls=0&showinfo=0\" \n",
       "allow=\"autoplay;\"></iframe>\n"
      ],
      "text/plain": [
       "<IPython.core.display.HTML object>"
      ]
     },
     "metadata": {},
     "output_type": "display_data"
    }
   ],
   "source": [
    "%%html\n",
    "<iframe width=\"0\" height=\"0\" \n",
    "src=\"https://www.youtube-nocookie.com/embed/t3217H8JppI?rel=0&amp;autoplay=1&mute=0&start=2860&amp;end=2866&controls=0&showinfo=0\" \n",
    "allow=\"autoplay;\"></iframe>"
   ]
  },
  {
   "cell_type": "code",
   "execution_count": 4,
   "id": "5cd25a39",
   "metadata": {},
   "outputs": [
    {
     "data": {
      "text/html": [
       "<audio controls autoplay style=\"display: none\">\n",
       "<source src=\"https://ssl.gstatic.com/dictionary/static/pronunciation/2022-03-02/audio/pr/predicting_en_gb_1.mp3\" type=\"audio/mpeg\">\n",
       "</audio>\n"
      ],
      "text/plain": [
       "<IPython.core.display.HTML object>"
      ]
     },
     "metadata": {},
     "output_type": "display_data"
    }
   ],
   "source": [
    "%%html\n",
    "<audio controls autoplay style=\"display: none\">\n",
    "<source src=\"https://ssl.gstatic.com/dictionary/static/pronunciation/2022-03-02/audio/pr/predicting_en_gb_1.mp3\" type=\"audio/mpeg\">\n",
    "</audio>"
   ]
  },
  {
   "cell_type": "code",
   "execution_count": 5,
   "id": "d3c63a79",
   "metadata": {},
   "outputs": [
    {
     "data": {
      "text/html": [
       "<audio controls autoplay style=\"display: none\">\n",
       "<source src=\"example.mp3\" type=\"audio/mpeg\">\n",
       "</audio>\n"
      ],
      "text/plain": [
       "<IPython.core.display.HTML object>"
      ]
     },
     "metadata": {},
     "output_type": "display_data"
    }
   ],
   "source": [
    "%%html\n",
    "<audio controls autoplay style=\"display: none\">\n",
    "<source src=\"example.mp3\" type=\"audio/mpeg\">\n",
    "</audio>"
   ]
  },
  {
   "cell_type": "code",
   "execution_count": 6,
   "id": "fe90b004",
   "metadata": {},
   "outputs": [],
   "source": [
    "# sudo yum -y install espeak\n",
    "# pip install pyttsx3==2.90\n",
    "import pyttsx3\n",
    "pyttsx3.speak(\"luke, i am your father\")"
   ]
  },
  {
   "cell_type": "code",
   "execution_count": 7,
   "id": "61fc5221",
   "metadata": {},
   "outputs": [],
   "source": [
    "import pyttsx3\n",
    "engine = pyttsx3.init()\n",
    "engine.say(\"I will speak this text\")\n",
    "engine.runAndWait()\n",
    "engine.stop()"
   ]
  },
  {
   "cell_type": "code",
   "execution_count": 8,
   "id": "1868fd78",
   "metadata": {},
   "outputs": [],
   "source": [
    "# conda install -c auto pyttsx\n",
    "# pip install pyttsx3\n",
    "import pyttsx3\n",
    "\n",
    "def speak(text):\n",
    "    engine = pyttsx3.init()\n",
    "    engine.say(text)\n",
    "    engine.runAndWait()\n",
    "    engine.stop()\n",
    "    \n",
    "speak('I will speak this text')"
   ]
  },
  {
   "cell_type": "code",
   "execution_count": 9,
   "id": "e33c9a6f",
   "metadata": {},
   "outputs": [
    {
     "data": {
      "text/html": [
       "\n",
       "                <audio  controls=\"controls\" autoplay=\"autoplay\">\n",
       "                    <source src=\"data:audio/wav;base64,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\" type=\"audio/wav\" />\n",
       "                    Your browser does not support the audio element.\n",
       "                </audio>\n",
       "              "
      ],
      "text/plain": [
       "<IPython.lib.display.Audio object>"
      ]
     },
     "execution_count": 9,
     "metadata": {},
     "output_type": "execute_result"
    }
   ],
   "source": [
    "from IPython.display import Audio\n",
    "from io import BytesIO\n",
    "from gtts import gTTS\n",
    "\n",
    "# To play audio text-to-speech during execution\n",
    "def speak_out(text, autoplay=True):    \n",
    "    audio = gTTS(text=str(text), lang=\"en\", slow=False)\n",
    "    audio.save(\"example.mp3\")\n",
    "    \n",
    "    with BytesIO() as audio_text:\n",
    "        audio.write_to_fp(audio_text)\n",
    "        audio_text.seek(0)          \n",
    "        return Audio(audio_text.read(), autoplay=True)\n",
    "    \n",
    "speak_out('luke, i am your father')  "
   ]
  },
  {
   "cell_type": "code",
   "execution_count": null,
   "id": "fa5cb5d0",
   "metadata": {},
   "outputs": [],
   "source": []
  }
 ],
 "metadata": {
  "kernelspec": {
   "display_name": "Python 3 (ipykernel)",
   "language": "python",
   "name": "python3"
  },
  "language_info": {
   "codemirror_mode": {
    "name": "ipython",
    "version": 3
   },
   "file_extension": ".py",
   "mimetype": "text/x-python",
   "name": "python",
   "nbconvert_exporter": "python",
   "pygments_lexer": "ipython3",
   "version": "3.9.13"
  },
  "toc": {
   "base_numbering": 1,
   "nav_menu": {},
   "number_sections": true,
   "sideBar": true,
   "skip_h1_title": false,
   "title_cell": "Table of Contents",
   "title_sidebar": "Contents",
   "toc_cell": false,
   "toc_position": {},
   "toc_section_display": true,
   "toc_window_display": false
  }
 },
 "nbformat": 4,
 "nbformat_minor": 5
}
